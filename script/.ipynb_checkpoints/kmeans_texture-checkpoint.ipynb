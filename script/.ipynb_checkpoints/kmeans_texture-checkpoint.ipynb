{
 "cells": [
  {
   "cell_type": "code",
   "execution_count": 2,
   "metadata": {
    "id": "PgKGsL6Ngmgi"
   },
   "outputs": [],
   "source": [
    "import pickle\n",
    "import numpy as np\n",
    "import os"
   ]
  },
  {
   "cell_type": "code",
   "execution_count": 3,
   "metadata": {
    "id": "23tQEpU6i7xT"
   },
   "outputs": [],
   "source": [
    "import time"
   ]
  },
  {
   "cell_type": "code",
   "execution_count": null,
   "metadata": {
    "id": "0oUVk7Ec9CNi"
   },
   "outputs": [],
   "source": []
  },
  {
   "cell_type": "code",
   "execution_count": 5,
   "metadata": {
    "id": "AhsQz-Jig9Sn"
   },
   "outputs": [],
   "source": [
    "path = \"\""
   ]
  },
  {
   "cell_type": "code",
   "execution_count": 6,
   "metadata": {
    "id": "_Exvp_xJhj89"
   },
   "outputs": [],
   "source": [
    "with open(os.path.join(path,\"label2num.pkl\"), \"rb\") as fp:   # Unpickling\n",
    "    label2num = pickle.load(fp)\n",
    "    \n",
    "with open(os.path.join(path,\"num2label.pkl\"), \"rb\") as fp:   # Unpickling\n",
    "    num2label = pickle.load(fp)\n",
    "    \n",
    "with open(os.path.join(path,\"train_feature.pkl\"), \"rb\") as fp:   # Unpickling\n",
    "    train_feature = pickle.load(fp)\n",
    "\n",
    "with open(os.path.join(path,\"train_label.pkl\"), \"rb\") as fp:   # Unpickling\n",
    "    train_label = pickle.load(fp)   "
   ]
  },
  {
   "cell_type": "code",
   "execution_count": 7,
   "metadata": {
    "id": "H0CQwgyDiSAK"
   },
   "outputs": [],
   "source": [
    "points_np = np.concatenate(train_feature, axis=0)"
   ]
  },
  {
   "cell_type": "code",
   "execution_count": 8,
   "metadata": {
    "id": "aF0SMSA0igBI"
   },
   "outputs": [],
   "source": [
    "from sklearn.cluster import MiniBatchKMeans"
   ]
  },
  {
   "cell_type": "code",
   "execution_count": null,
   "metadata": {
    "id": "EXHl6rwo_OJQ"
   },
   "outputs": [],
   "source": [
    "num_of_classes = 47"
   ]
  },
  {
   "cell_type": "code",
   "execution_count": 10,
   "metadata": {
    "colab": {
     "base_uri": "https://localhost:8080/"
    },
    "id": "KLN_K0vhzvUA",
    "outputId": "e1a43db7-2d36-43db-dcb3-b59bbcfd1fea"
   },
   "outputs": [
    {
     "name": "stdout",
     "output_type": "stream",
     "text": [
      "346.27465081214905\n",
      "588.9537439346313\n",
      "945.7413485050201\n",
      "1168.875649690628\n",
      "1428.797747850418\n",
      "1690.7343866825104\n",
      "1905.2199625968933\n",
      "2630.8747234344482\n",
      "2422.9970326423645\n",
      "2822.9015295505524\n"
     ]
    }
   ],
   "source": [
    "for scale in range(1,11):\n",
    "    number_of_clusters = num_of_classes*scale\n",
    "    kmeans = MiniBatchKMeans(n_clusters=number_of_clusters,\n",
    "                            max_iter=1000,\n",
    "                         batch_size = 1000000\n",
    "                        )\n",
    "    start = time.time()\n",
    "\n",
    "    kmeans = kmeans.fit(points_np)\n",
    "\n",
    "    end = time.time()\n",
    "    print(end-start)\n",
    "\n",
    "    with open(os.path.join(path,\"batch_kmeans_model_\"+str(number_of_clusters)+\".pkl\"), \"wb\") as fp:   #Pickling\n",
    "        pickle.dump(kmeans, fp)"
   ]
  },
  {
   "cell_type": "code",
   "execution_count": null,
   "metadata": {
    "id": "r7so0g719Aib"
   },
   "outputs": [],
   "source": []
  }
 ],
 "metadata": {
  "colab": {
   "collapsed_sections": [],
   "name": "kmeans_texture.ipynb",
   "provenance": []
  },
  "kernelspec": {
   "display_name": "Python 3",
   "language": "python",
   "name": "python3"
  },
  "language_info": {
   "codemirror_mode": {
    "name": "ipython",
    "version": 3
   },
   "file_extension": ".py",
   "mimetype": "text/x-python",
   "name": "python",
   "nbconvert_exporter": "python",
   "pygments_lexer": "ipython3",
   "version": "3.7.10"
  }
 },
 "nbformat": 4,
 "nbformat_minor": 1
}
