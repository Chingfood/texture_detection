{
 "cells": [
  {
   "cell_type": "code",
   "execution_count": null,
   "id": "explicit-platform",
   "metadata": {},
   "outputs": [],
   "source": [
    "import os\n",
    "import pickle"
   ]
  },
  {
   "cell_type": "code",
   "execution_count": null,
   "id": "covered-store",
   "metadata": {},
   "outputs": [],
   "source": [
    "train_text = \"dtdata/train.txt\"\n",
    "validate_text = \"dtdata/val.txt\"\n",
    "test_text = \"dtdata/test.txt\""
   ]
  },
  {
   "cell_type": "code",
   "execution_count": null,
   "id": "junior-diagnosis",
   "metadata": {},
   "outputs": [],
   "source": [
    "def label_generating_from_path(file_path):\n",
    "    label = file_path.strip().split('/')[-1].split('_')[0]\n",
    "    return label"
   ]
  },
  {
   "cell_type": "code",
   "execution_count": null,
   "id": "seeing-kinase",
   "metadata": {},
   "outputs": [],
   "source": [
    "\"\"\"\n",
    "Construct all the labels possible and encode it numerically\n",
    "\"\"\"\n",
    "labels_list = []\n",
    "with open(train_text) as f:\n",
    "    for line in f:\n",
    "        labels_list.append(label_generating_from_path(line))\n",
    "labels_list_redundancy_removed = list(set(labels_list))\n",
    "  \n",
    "\n",
    "labels_list_redundancy_removed.sort()\n",
    "\n",
    "label2num = {}\n",
    "num2label = {}\n",
    "for i, item in enumerate(labels_list_redundancy_removed):\n",
    "    label2num[item] = i\n",
    "    num2label[i] = item"
   ]
  },
  {
   "cell_type": "code",
   "execution_count": null,
   "id": "acting-january",
   "metadata": {},
   "outputs": [],
   "source": [
    "with open(\"label2num.pkl\", \"wb\") as fp:   #Pickling\n",
    "    pickle.dump(label2num, fp)\n",
    "    \n",
    "with open(\"num2label.pkl\", \"wb\") as fp:   #Pickling\n",
    "    pickle.dump(num2label, fp)"
   ]
  },
  {
   "cell_type": "code",
   "execution_count": 1,
   "id": "dirty-complement",
   "metadata": {},
   "outputs": [
    {
     "ename": "ModuleNotFoundError",
     "evalue": "No module named 'script'",
     "output_type": "error",
     "traceback": [
      "\u001b[0;31m---------------------------------------------------------------------------\u001b[0m",
      "\u001b[0;31mModuleNotFoundError\u001b[0m                       Traceback (most recent call last)",
      "\u001b[0;32m<ipython-input-1-0987b8a8e219>\u001b[0m in \u001b[0;36m<module>\u001b[0;34m\u001b[0m\n\u001b[0;32m----> 1\u001b[0;31m \u001b[0;32mfrom\u001b[0m \u001b[0mscript\u001b[0m\u001b[0;34m.\u001b[0m\u001b[0mlm\u001b[0m \u001b[0;32mimport\u001b[0m \u001b[0;34m*\u001b[0m\u001b[0;34m\u001b[0m\u001b[0;34m\u001b[0m\u001b[0m\n\u001b[0m",
      "\u001b[0;31mModuleNotFoundError\u001b[0m: No module named 'script'"
     ]
    }
   ],
   "source": [
    "from script.lm import *"
   ]
  }
 ],
 "metadata": {
  "kernelspec": {
   "display_name": "Python 3",
   "language": "python",
   "name": "python3"
  },
  "language_info": {
   "codemirror_mode": {
    "name": "ipython",
    "version": 3
   },
   "file_extension": ".py",
   "mimetype": "text/x-python",
   "name": "python",
   "nbconvert_exporter": "python",
   "pygments_lexer": "ipython3",
   "version": "3.7.10"
  }
 },
 "nbformat": 4,
 "nbformat_minor": 5
}
