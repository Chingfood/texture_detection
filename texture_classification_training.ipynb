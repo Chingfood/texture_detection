{
 "cells": [
  {
   "cell_type": "markdown",
   "id": "parallel-choir",
   "metadata": {},
   "source": [
    "%config Completer.use_jedi = False"
   ]
  },
  {
   "cell_type": "code",
   "execution_count": 2,
   "id": "portuguese-testimony",
   "metadata": {},
   "outputs": [
    {
     "name": "stdout",
     "output_type": "stream",
     "text": [
      "(49, 49, 48)\n"
     ]
    }
   ],
   "source": [
    "from lm import *"
   ]
  },
  {
   "cell_type": "code",
   "execution_count": 3,
   "id": "meaningful-figure",
   "metadata": {},
   "outputs": [],
   "source": [
    "from skimage.color import rgb2gray\n",
    "from imageio import imread, imsave\n",
    "import os\n",
    "import matplotlib.pyplot as plt"
   ]
  },
  {
   "cell_type": "code",
   "execution_count": 4,
   "id": "dirty-township",
   "metadata": {},
   "outputs": [],
   "source": [
    "import time\n",
    "import pickle"
   ]
  },
  {
   "cell_type": "code",
   "execution_count": 5,
   "id": "found-arthur",
   "metadata": {},
   "outputs": [],
   "source": [
    "F = makeLMfilters()"
   ]
  },
  {
   "cell_type": "code",
   "execution_count": 6,
   "id": "behind-channel",
   "metadata": {},
   "outputs": [],
   "source": [
    "train_text = \"dtdata/train.txt\"\n",
    "validate_text = \"dtdata/val.txt\"\n",
    "test_text = \"dtdata/test.txt\""
   ]
  },
  {
   "cell_type": "code",
   "execution_count": 7,
   "id": "sacred-compilation",
   "metadata": {},
   "outputs": [],
   "source": [
    "def label_generating_from_path(file_path):\n",
    "    label = file_path.strip().split('/')[-1].split('_')[0]\n",
    "    return label"
   ]
  },
  {
   "cell_type": "code",
   "execution_count": 8,
   "id": "specific-consent",
   "metadata": {},
   "outputs": [],
   "source": [
    "def img_load_gray(file_path):\n",
    "    file_path = file_path.strip()\n",
    "    return rgb2gray(imread(file_path))"
   ]
  },
  {
   "cell_type": "code",
   "execution_count": 9,
   "id": "polar-anaheim",
   "metadata": {},
   "outputs": [],
   "source": [
    "def img_filepath_preprocess(path):\n",
    "    return os.path.join('dtdata', 'images', path)"
   ]
  },
  {
   "cell_type": "code",
   "execution_count": 10,
   "id": "actual-georgia",
   "metadata": {},
   "outputs": [],
   "source": [
    "def apply_filter(image, filter_matrix, stride=1):\n",
    "    \n",
    "    filter_size_x, filter_size_y = filter_matrix.shape[:2]\n",
    "    \n",
    "    start_x = int((filter_size_x - 1) / 2)\n",
    "    start_y = int((filter_size_y - 1) / 2)\n",
    "    \n",
    "    output_size_x = int((image.shape[0] - filter_size_x ) / stride + 1)\n",
    "    output_size_y = int((image.shape[1] - filter_size_y ) / stride + 1)\n",
    "    \n",
    "    output = np.zeros([output_size_x,output_size_y,filter_matrix.shape[2]])\n",
    "    \n",
    "    for i in range(output_size_x):\n",
    "        for j in range(output_size_y):\n",
    "            im_i = start_x + i*stride\n",
    "            im_j = start_y + j*stride\n",
    "\n",
    "            patch = np.repeat(image[im_i-start_x : im_i+start_x+1, im_j-start_y : im_j+start_y+1, np.newaxis], F.shape[2], axis=2)\n",
    "            \n",
    "            output[i,j] = (patch * filter_matrix).sum(axis = (0,1))\n",
    "    \n",
    "    mean_mat = np.tile(output.mean(axis=(0,1))[np.newaxis, np.newaxis,:], output.shape[:2]+(1,))\n",
    "    std_mat = np.tile(output.std(axis=(0,1))[np.newaxis, np.newaxis,:], output.shape[:2]+(1,))\n",
    "    normalized_output = (output-mean_mat)/std_mat\n",
    "    return normalized_output\n",
    "            "
   ]
  },
  {
   "cell_type": "code",
   "execution_count": 11,
   "id": "ranking-complex",
   "metadata": {},
   "outputs": [],
   "source": [
    "def output2points(matrix):\n",
    "    return matrix.reshape(-1,matrix.shape[-1])"
   ]
  },
  {
   "cell_type": "code",
   "execution_count": 12,
   "id": "apparent-surveillance",
   "metadata": {},
   "outputs": [],
   "source": [
    "\"\"\"\n",
    "The image and processed feature vector is too big for the RAM, going to crop the image first\n",
    "\"\"\"\n",
    "def crop_image(img,cropx=150,cropy=150):\n",
    "    y,x = img.shape\n",
    "    startx = x//2-(cropx//2)\n",
    "    starty = y//2-(cropy//2)    \n",
    "    return img[starty:starty+cropy,startx:startx+cropx]\n"
   ]
  },
  {
   "cell_type": "code",
   "execution_count": 14,
   "id": "reflected-engineering",
   "metadata": {},
   "outputs": [],
   "source": [
    "with open(\"label2num.pkl\", \"rb\") as fp:   # Unpickling\n",
    "    label2num = pickle.load(fp)\n",
    "    \n",
    "with open(\"num2label.pkl\", \"rb\") as fp:   # Unpickling\n",
    "    num2label = pickle.load(fp)\n",
    "    "
   ]
  },
  {
   "cell_type": "markdown",
   "id": "stock-complexity",
   "metadata": {},
   "source": [
    "start = time.time()"
   ]
  },
  {
   "cell_type": "markdown",
   "id": "parliamentary-union",
   "metadata": {},
   "source": [
    "counter = 0"
   ]
  },
  {
   "cell_type": "code",
   "execution_count": 15,
   "id": "german-central",
   "metadata": {},
   "outputs": [],
   "source": [
    "points_list = []\n",
    "label_list = []\n",
    "with open(train_text) as f:\n",
    "    for line in f:\n",
    "#         counter += 1\n",
    "#         if counter > 10: break\n",
    "        label_list.append( label2num[label_generating_from_path(line)] )\n",
    "        \n",
    "        image = crop_image(img_load_gray(img_filepath_preprocess(line)),200,200)\n",
    "\n",
    "        points_list.append( (output2points( apply_filter(image, F, stride=2) ) ).astype(np.float32) )\n",
    "        "
   ]
  },
  {
   "cell_type": "markdown",
   "id": "worse-quality",
   "metadata": {},
   "source": [
    "end = time.time()\n",
    "print(end-start)"
   ]
  },
  {
   "cell_type": "code",
   "execution_count": 16,
   "id": "interior-kelly",
   "metadata": {},
   "outputs": [],
   "source": [
    "with open(\"train_feature.pkl\", \"wb\") as fp:   #Pickling\n",
    "    pickle.dump(points_list, fp)\n",
    "\n",
    "with open(\"train_label.pkl\", \"wb\") as fp:   #Pickling\n",
    "    pickle.dump(label_list, fp)\n"
   ]
  },
  {
   "cell_type": "code",
   "execution_count": null,
   "id": "built-prize",
   "metadata": {},
   "outputs": [],
   "source": []
  }
 ],
 "metadata": {
  "kernelspec": {
   "display_name": "Python 3",
   "language": "python",
   "name": "python3"
  },
  "language_info": {
   "codemirror_mode": {
    "name": "ipython",
    "version": 3
   },
   "file_extension": ".py",
   "mimetype": "text/x-python",
   "name": "python",
   "nbconvert_exporter": "python",
   "pygments_lexer": "ipython3",
   "version": "3.7.10"
  }
 },
 "nbformat": 4,
 "nbformat_minor": 5
}
