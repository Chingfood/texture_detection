{
 "cells": [
  {
   "cell_type": "code",
   "execution_count": 2,
   "id": "personalized-threat",
   "metadata": {},
   "outputs": [],
   "source": [
    "%config Completer.use_jedi = False"
   ]
  },
  {
   "cell_type": "code",
   "execution_count": 6,
   "id": "north-category",
   "metadata": {},
   "outputs": [],
   "source": [
    "! python script/label_encoding_dictionary.py"
   ]
  },
  {
   "cell_type": "code",
   "execution_count": 8,
   "id": "referenced-organ",
   "metadata": {},
   "outputs": [
    {
     "name": "stdout",
     "output_type": "stream",
     "text": [
      "(49, 49, 48)\r\n"
     ]
    }
   ],
   "source": [
    "! python script/texture_classification_training.py"
   ]
  },
  {
   "cell_type": "code",
   "execution_count": null,
   "id": "elegant-gambling",
   "metadata": {},
   "outputs": [],
   "source": [
    "! python script/texture_classification_validating.py"
   ]
  },
  {
   "cell_type": "code",
   "execution_count": null,
   "id": "continuous-standing",
   "metadata": {},
   "outputs": [],
   "source": [
    "! python script/texture_classification_testing.py"
   ]
  },
  {
   "cell_type": "code",
   "execution_count": null,
   "id": "chicken-plant",
   "metadata": {},
   "outputs": [],
   "source": [
    "! python script/kmeans_texture.py\n",
    "\n",
    "\n"
   ]
  },
  {
   "cell_type": "code",
   "execution_count": null,
   "id": "sapphire-brother",
   "metadata": {},
   "outputs": [],
   "source": [
    "! python script/k_neighbors.py\n",
    "\n",
    "\"\"\"\n",
    " This file is written in a seperate jupyter notebook file, all the image can be viewed in k_neighbors.ipynb\n",
    "\"\"\""
   ]
  },
  {
   "cell_type": "code",
   "execution_count": null,
   "id": "harmful-committee",
   "metadata": {},
   "outputs": [],
   "source": [
    "! python script/classifier_accuracy.py\n",
    "\n",
    "\"\"\"\n",
    " This file is written in a seperate jupyter notebook file, all the image can be viewed in classifier_accuracy.ipynb\n",
    "\"\"\""
   ]
  }
 ],
 "metadata": {
  "kernelspec": {
   "display_name": "Python 3",
   "language": "python",
   "name": "python3"
  },
  "language_info": {
   "codemirror_mode": {
    "name": "ipython",
    "version": 3
   },
   "file_extension": ".py",
   "mimetype": "text/x-python",
   "name": "python",
   "nbconvert_exporter": "python",
   "pygments_lexer": "ipython3",
   "version": "3.7.10"
  }
 },
 "nbformat": 4,
 "nbformat_minor": 5
}
