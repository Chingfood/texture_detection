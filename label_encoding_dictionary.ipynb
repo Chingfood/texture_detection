{
 "cells": [
  {
   "cell_type": "markdown",
   "id": "julian-ministry",
   "metadata": {},
   "source": [
    "%config Completer.use_jedi = False"
   ]
  },
  {
   "cell_type": "code",
   "execution_count": 2,
   "id": "fitted-gather",
   "metadata": {},
   "outputs": [],
   "source": [
    "import os\n",
    "import pickle"
   ]
  },
  {
   "cell_type": "code",
   "execution_count": 3,
   "id": "intelligent-talent",
   "metadata": {},
   "outputs": [],
   "source": [
    "train_text = \"dtdata/train.txt\"\n",
    "validate_text = \"dtdata/val.txt\"\n",
    "test_text = \"dtdata/test.txt\""
   ]
  },
  {
   "cell_type": "code",
   "execution_count": 4,
   "id": "close-generic",
   "metadata": {},
   "outputs": [],
   "source": [
    "def label_generating_from_path(file_path):\n",
    "    label = file_path.strip().split('/')[-1].split('_')[0]\n",
    "    return label"
   ]
  },
  {
   "cell_type": "code",
   "execution_count": 5,
   "id": "homeless-frame",
   "metadata": {},
   "outputs": [],
   "source": [
    "\"\"\"\n",
    "Construct all the labels possible and encode it numerically\n",
    "\"\"\"\n",
    "labels_list = []\n",
    "with open(train_text) as f:\n",
    "    for line in f:\n",
    "        labels_list.append(label_generating_from_path(line))\n",
    "labels_list_redundancy_removed = list(set(labels_list))\n",
    "  \n",
    "\n",
    "labels_list_redundancy_removed.sort()\n",
    "\n",
    "label2num = {}\n",
    "num2label = {}\n",
    "for i, item in enumerate(labels_list_redundancy_removed):\n",
    "    label2num[item] = i\n",
    "    num2label[i] = item"
   ]
  },
  {
   "cell_type": "code",
   "execution_count": 8,
   "id": "incorrect-belgium",
   "metadata": {},
   "outputs": [],
   "source": [
    "with open(\"label2num.pkl\", \"wb\") as fp:   #Pickling\n",
    "    pickle.dump(label2num, fp)\n",
    "    \n",
    "with open(\"num2label.pkl\", \"wb\") as fp:   #Pickling\n",
    "    pickle.dump(num2label, fp)\n"
   ]
  }
 ],
 "metadata": {
  "kernelspec": {
   "display_name": "Python 3",
   "language": "python",
   "name": "python3"
  },
  "language_info": {
   "codemirror_mode": {
    "name": "ipython",
    "version": 3
   },
   "file_extension": ".py",
   "mimetype": "text/x-python",
   "name": "python",
   "nbconvert_exporter": "python",
   "pygments_lexer": "ipython3",
   "version": "3.7.10"
  }
 },
 "nbformat": 4,
 "nbformat_minor": 5
}
