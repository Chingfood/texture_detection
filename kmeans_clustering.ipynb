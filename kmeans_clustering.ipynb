{
 "cells": [
  {
   "cell_type": "code",
   "execution_count": 4,
   "id": "together-baghdad",
   "metadata": {},
   "outputs": [],
   "source": [
    "%config Completer.use_jedi = False"
   ]
  },
  {
   "cell_type": "code",
   "execution_count": 5,
   "id": "temporal-novelty",
   "metadata": {},
   "outputs": [],
   "source": [
    "import pickle\n",
    "import numpy as np"
   ]
  },
  {
   "cell_type": "code",
   "execution_count": 16,
   "id": "becoming-russell",
   "metadata": {},
   "outputs": [],
   "source": [
    "import time"
   ]
  },
  {
   "cell_type": "code",
   "execution_count": 6,
   "id": "frequent-drunk",
   "metadata": {},
   "outputs": [],
   "source": [
    "with open(\"label2num.pkl\", \"rb\") as fp:   # Unpickling\n",
    "    label2num = pickle.load(fp)\n",
    "    \n",
    "with open(\"num2label.pkl\", \"rb\") as fp:   # Unpickling\n",
    "    num2label = pickle.load(fp)\n",
    "    \n",
    "with open(\"train_feature_mock.pkl\", \"rb\") as fp:   # Unpickling\n",
    "    train_feature = pickle.load(fp)\n",
    "\n",
    "with open(\"train_label_mock.pkl\", \"rb\") as fp:   # Unpickling\n",
    "    train_label = pickle.load(fp)   "
   ]
  },
  {
   "cell_type": "code",
   "execution_count": 9,
   "id": "falling-morris",
   "metadata": {},
   "outputs": [],
   "source": [
    "points_np = np.concatenate(train_feature, axis=0)"
   ]
  },
  {
   "cell_type": "code",
   "execution_count": 10,
   "id": "durable-folder",
   "metadata": {},
   "outputs": [
    {
     "data": {
      "text/plain": [
       "(1085888, 48)"
      ]
     },
     "execution_count": 10,
     "metadata": {},
     "output_type": "execute_result"
    }
   ],
   "source": [
    "points_np.shape"
   ]
  },
  {
   "cell_type": "code",
   "execution_count": 12,
   "id": "secure-details",
   "metadata": {},
   "outputs": [
    {
     "data": {
      "text/plain": [
       "47"
      ]
     },
     "execution_count": 12,
     "metadata": {},
     "output_type": "execute_result"
    }
   ],
   "source": [
    "len(label2num)"
   ]
  },
  {
   "cell_type": "code",
   "execution_count": 11,
   "id": "realistic-teach",
   "metadata": {},
   "outputs": [],
   "source": [
    "from sklearn.cluster import MiniBatchKMeans"
   ]
  },
  {
   "cell_type": "code",
   "execution_count": 52,
   "id": "timely-drove",
   "metadata": {},
   "outputs": [],
   "source": [
    "number_of_clusters = 47"
   ]
  },
  {
   "cell_type": "code",
   "execution_count": 53,
   "id": "little-anatomy",
   "metadata": {},
   "outputs": [],
   "source": [
    "kmeans = MiniBatchKMeans(n_clusters=number_of_clusters,\n",
    "                         random_state=2,\n",
    "                         batch_size = 100000\n",
    "                        )"
   ]
  },
  {
   "cell_type": "code",
   "execution_count": 183,
   "id": "tested-triple",
   "metadata": {},
   "outputs": [
    {
     "data": {
      "text/plain": [
       "47"
      ]
     },
     "execution_count": 183,
     "metadata": {},
     "output_type": "execute_result"
    }
   ],
   "source": [
    "kmeans.get_params()['n_clusters']"
   ]
  },
  {
   "cell_type": "code",
   "execution_count": 38,
   "id": "pretty-disposition",
   "metadata": {},
   "outputs": [],
   "source": [
    "start = time.time()"
   ]
  },
  {
   "cell_type": "code",
   "execution_count": 39,
   "id": "experienced-parent",
   "metadata": {},
   "outputs": [],
   "source": [
    "kmeans = kmeans.fit(points_np)"
   ]
  },
  {
   "cell_type": "code",
   "execution_count": 40,
   "id": "provincial-mexico",
   "metadata": {},
   "outputs": [
    {
     "name": "stdout",
     "output_type": "stream",
     "text": [
      "0.7656826972961426\n"
     ]
    }
   ],
   "source": [
    "end = time.time()\n",
    "print(end-start)"
   ]
  },
  {
   "cell_type": "code",
   "execution_count": 41,
   "id": "pending-steam",
   "metadata": {},
   "outputs": [],
   "source": [
    "texton_label = kmeans.predict(points_np)"
   ]
  },
  {
   "cell_type": "code",
   "execution_count": 42,
   "id": "cosmetic-firmware",
   "metadata": {},
   "outputs": [
    {
     "data": {
      "text/plain": [
       "(1085888,)"
      ]
     },
     "execution_count": 42,
     "metadata": {},
     "output_type": "execute_result"
    }
   ],
   "source": [
    "texton_label.shape"
   ]
  },
  {
   "cell_type": "code",
   "execution_count": 45,
   "id": "announced-tamil",
   "metadata": {},
   "outputs": [],
   "source": [
    "train_texton_space_feature = []\n",
    "\n",
    "start = 0\n",
    "for i in range(len(train_feature)):\n",
    "    end = train_feature[i].shape[0]+start\n",
    "    train_texton_space_feature.append(texton_label[start:end])\n",
    "    start = end\n",
    "    "
   ]
  },
  {
   "cell_type": "code",
   "execution_count": 46,
   "id": "agreed-turtle",
   "metadata": {},
   "outputs": [
    {
     "data": {
      "text/plain": [
       "188"
      ]
     },
     "execution_count": 46,
     "metadata": {},
     "output_type": "execute_result"
    }
   ],
   "source": [
    "len(train_texton_space_feature)"
   ]
  },
  {
   "cell_type": "code",
   "execution_count": null,
   "id": "opened-alabama",
   "metadata": {},
   "outputs": [],
   "source": []
  },
  {
   "cell_type": "code",
   "execution_count": 75,
   "id": "spiritual-model",
   "metadata": {},
   "outputs": [],
   "source": [
    "train_feature_texto_histogram = []\n",
    "for i in range(len(train_texton_space_feature)):\n",
    "    unique, counts = np.unique(train_texton_space_feature[i], return_counts=True)\n",
    "    histo_dict = dict(zip(unique, counts))\n",
    "    \n",
    "    histo_np = np.zeros(number_of_clusters).astype(np.float32)\n",
    "\n",
    "    for j in range(number_of_clusters):\n",
    "        if j in histo_dict:\n",
    "            histo_np[j] = histo_dict[j]/counts.sum()\n",
    "    train_feature_texto_histogram.append(np.clip(histo_np, 1e-7, np.inf))"
   ]
  },
  {
   "cell_type": "code",
   "execution_count": 64,
   "id": "european-bhutan",
   "metadata": {},
   "outputs": [
    {
     "data": {
      "text/plain": [
       "(47,)"
      ]
     },
     "execution_count": 64,
     "metadata": {},
     "output_type": "execute_result"
    }
   ],
   "source": [
    "train_feature_texto_histogram[0].shape"
   ]
  },
  {
   "cell_type": "code",
   "execution_count": 76,
   "id": "lonely-combining",
   "metadata": {},
   "outputs": [
    {
     "data": {
      "text/plain": [
       "array([7.2714679e-02, 7.7042937e-02, 1.8698061e-02, 4.5013851e-03,\n",
       "       8.5180059e-02, 1.5235457e-02, 4.5013851e-03, 3.4626038e-03,\n",
       "       2.7354570e-02, 6.8213299e-02, 3.6357341e-03, 5.0207758e-03,\n",
       "       1.0000000e-07, 3.2894737e-03, 8.8988923e-02, 1.3850415e-02,\n",
       "       2.3199446e-02, 1.7313019e-04, 5.3670360e-03, 7.9639889e-03,\n",
       "       1.9563712e-02, 3.4279779e-02, 4.6572022e-02, 1.0560942e-02,\n",
       "       1.0000000e-07, 4.5013851e-03, 1.9044321e-03, 7.4445982e-03,\n",
       "       2.1814404e-02, 1.0000000e-07, 9.6952906e-03, 1.0000000e-07,\n",
       "       4.7610804e-02, 3.1163434e-03, 2.6142659e-02, 3.6011081e-02,\n",
       "       1.0000000e-07, 1.3157895e-02, 1.5581718e-02, 2.5969530e-03,\n",
       "       1.2638505e-02, 1.8005541e-02, 1.2984765e-02, 4.4148199e-02,\n",
       "       1.0000000e-07, 1.5927978e-02, 6.7347646e-02], dtype=float32)"
      ]
     },
     "execution_count": 76,
     "metadata": {},
     "output_type": "execute_result"
    }
   ],
   "source": [
    "train_feature_texto_histogram[0]"
   ]
  },
  {
   "cell_type": "code",
   "execution_count": 67,
   "id": "infrared-myrtle",
   "metadata": {},
   "outputs": [],
   "source": [
    "def cosine_similarity(list_1, list_2):\n",
    "    cos_sim = np.dot(list_1, list_2) / (np.linalg.norm(list_1) * np.linalg.norm(list_2))\n",
    "    return cos_sim"
   ]
  },
  {
   "cell_type": "code",
   "execution_count": 83,
   "id": "contained-publication",
   "metadata": {},
   "outputs": [],
   "source": [
    "def chi2_distance(list_1, list_2):\n",
    "    d = 0.5*( (list_1-list_2)**2 / (list_1+list_2) ).sum()\n",
    "    return d"
   ]
  },
  {
   "cell_type": "code",
   "execution_count": 68,
   "id": "massive-geneva",
   "metadata": {},
   "outputs": [],
   "source": [
    "sim_matrix = np.zeros([len(train_feature_texto_histogram),len(train_feature_texto_histogram)])\n",
    "\n",
    "for i in range(sim_matrix.shape[0]):\n",
    "    for j in range(sim_matrix.shape[1]):\n",
    "        sim_matrix[i,j] = cosine_similarity(train_feature_texto_histogram[i],train_feature_texto_histogram[j])"
   ]
  },
  {
   "cell_type": "code",
   "execution_count": 84,
   "id": "plastic-venue",
   "metadata": {},
   "outputs": [],
   "source": [
    "dist_matrix = np.zeros([len(train_feature_texto_histogram),len(train_feature_texto_histogram)])\n",
    "\n",
    "for i in range(dist_matrix.shape[0]):\n",
    "    for j in range(dist_matrix.shape[1]):\n",
    "        dist_matrix[i,j] = chi2_distance(train_feature_texto_histogram[i],train_feature_texto_histogram[j])"
   ]
  },
  {
   "cell_type": "code",
   "execution_count": 69,
   "id": "demographic-substance",
   "metadata": {},
   "outputs": [],
   "source": [
    "import matplotlib.pyplot as plt"
   ]
  },
  {
   "cell_type": "markdown",
   "id": "committed-barcelona",
   "metadata": {},
   "source": [
    "fig = plt.figure(figsize=(10, 10))\n",
    "plt.imshow(sim_matrix, cmap=\"gray\")\n",
    "plt.show()"
   ]
  },
  {
   "cell_type": "markdown",
   "id": "proud-worcester",
   "metadata": {},
   "source": [
    "fig = plt.figure(figsize=(10, 10))\n",
    "plt.imshow(dist_matrix, cmap=\"gray\")\n",
    "plt.show()"
   ]
  },
  {
   "cell_type": "code",
   "execution_count": 87,
   "id": "biological-uzbekistan",
   "metadata": {},
   "outputs": [],
   "source": [
    "from sklearn.neighbors import KNeighborsClassifier"
   ]
  },
  {
   "cell_type": "code",
   "execution_count": 88,
   "id": "essential-theme",
   "metadata": {},
   "outputs": [],
   "source": [
    "neigh = KNeighborsClassifier(n_neighbors=5, weights='distance', metric='precomputed')"
   ]
  },
  {
   "cell_type": "code",
   "execution_count": 89,
   "id": "worthy-parish",
   "metadata": {},
   "outputs": [
    {
     "data": {
      "text/plain": [
       "KNeighborsClassifier(metric='precomputed', weights='distance')"
      ]
     },
     "execution_count": 89,
     "metadata": {},
     "output_type": "execute_result"
    }
   ],
   "source": [
    "neigh.fit(dist_matrix, train_label)"
   ]
  },
  {
   "cell_type": "code",
   "execution_count": 108,
   "id": "fifty-landscape",
   "metadata": {},
   "outputs": [],
   "source": [
    "###query need to laod validation dataset, kmeans to find texton frequency, construct histogram, make distance matrix, predict\n",
    "query = train_feature_texto_histogram\n"
   ]
  },
  {
   "cell_type": "code",
   "execution_count": 109,
   "id": "appreciated-malawi",
   "metadata": {},
   "outputs": [],
   "source": [
    "\n",
    "\n",
    "query_input = np.zeros([len(query),len(train_feature_texto_histogram)])\n",
    "\n",
    "for i in range(query_input.shape[0]):\n",
    "    for j in range(query_input.shape[1]):\n",
    "        query_input[i,j] = chi2_distance(query[i],train_feature_texto_histogram[j])"
   ]
  },
  {
   "cell_type": "code",
   "execution_count": 94,
   "id": "hazardous-giant",
   "metadata": {},
   "outputs": [
    {
     "data": {
      "text/plain": [
       "(2, 188)"
      ]
     },
     "execution_count": 94,
     "metadata": {},
     "output_type": "execute_result"
    }
   ],
   "source": [
    "query_input.shape"
   ]
  },
  {
   "cell_type": "code",
   "execution_count": 110,
   "id": "cooked-encoding",
   "metadata": {},
   "outputs": [],
   "source": [
    "label_predicted_prob = neigh.predict_proba(query_input)"
   ]
  },
  {
   "cell_type": "code",
   "execution_count": 111,
   "id": "turkish-exclusion",
   "metadata": {},
   "outputs": [],
   "source": [
    "label_predicted = label_predicted_prob.argmax(axis=1)"
   ]
  },
  {
   "cell_type": "code",
   "execution_count": 121,
   "id": "finished-receiver",
   "metadata": {},
   "outputs": [],
   "source": []
  },
  {
   "cell_type": "code",
   "execution_count": 122,
   "id": "greenhouse-election",
   "metadata": {},
   "outputs": [
    {
     "data": {
      "text/plain": [
       "(188,)"
      ]
     },
     "execution_count": 122,
     "metadata": {},
     "output_type": "execute_result"
    }
   ],
   "source": []
  },
  {
   "cell_type": "code",
   "execution_count": 133,
   "id": "canadian-insulation",
   "metadata": {},
   "outputs": [],
   "source": [
    "def list_indices(list_1, element):\n",
    "    indices = [i for i,x in enumerate(list_1) if x == element]\n",
    "    return indices"
   ]
  },
  {
   "cell_type": "code",
   "execution_count": 136,
   "id": "eligible-problem",
   "metadata": {},
   "outputs": [],
   "source": [
    "u = np.unique(train_label)"
   ]
  },
  {
   "cell_type": "code",
   "execution_count": 138,
   "id": "adaptive-population",
   "metadata": {},
   "outputs": [
    {
     "data": {
      "text/plain": [
       "(47,)"
      ]
     },
     "execution_count": 138,
     "metadata": {},
     "output_type": "execute_result"
    }
   ],
   "source": [
    "u.shape"
   ]
  },
  {
   "cell_type": "code",
   "execution_count": 170,
   "id": "approved-scott",
   "metadata": {},
   "outputs": [],
   "source": [
    "\n",
    "\n",
    "#construct a matrix that store the value of true labels vs. predicted labels table\n",
    "#axis0 is true label, axis1 is the predicted label\n",
    "label_mat = np.zeros([len(label2num),len(label2num)])\n",
    "label_prob_mat = np.zeros([len(label2num),len(label2num)])\n",
    "\n",
    "for i in range(u.shape[0]):\n",
    "    indices = list_indices(train_label, u[i])\n",
    "    for index in indices:\n",
    "        label_mat[u[i],label_predicted[index]] += 1\n",
    "        label_prob_mat[u[i]] += label_predicted_prob[index]\n",
    "\n"
   ]
  },
  {
   "cell_type": "code",
   "execution_count": null,
   "id": "functioning-marker",
   "metadata": {},
   "outputs": [],
   "source": [
    "label_label_mat = label_mat/label_mat.sum(axis=1, keepdims=True)    \n",
    "label_label_prob_mat = label_prob_mat/label_prob_mat.sum(axis=1, keepdims=True)"
   ]
  },
  {
   "cell_type": "code",
   "execution_count": 173,
   "id": "nonprofit-corps",
   "metadata": {},
   "outputs": [],
   "source": [
    "def confusion_mat_generating(labelXlabel_mat):\n",
    "    label_confusion_mat = np.zeros([labelXlabel_mat.shape[0],2,2])\n",
    "\n",
    "    \"\"\"\n",
    "    True Positive [0,0]\n",
    "    False Negative [0,1]\n",
    "    False Positive [1,0]\n",
    "    True Negative [1,1]\n",
    "    \"\"\"\n",
    "\n",
    "    for i in range(labelXlabel_mat.shape[0]):\n",
    "        label_confusion_mat[i][0,0] = labelXlabel_mat[i,i]\n",
    "        label_confusion_mat[i][0,1] = labelXlabel_mat[i,:].sum() - labelXlabel_mat[i,i] \n",
    "        label_confusion_mat[i][1,0] = labelXlabel_mat[:,i].sum() - labelXlabel_mat[i,i]\n",
    "        label_confusion_mat[i][1,1] = labelXlabel_mat.sum() - labelXlabel_mat[i,:].sum() - labelXlabel_mat[:,i].sum() + labelXlabel_mat[i,i]\n",
    "    \n",
    "    return label_confusion_mat"
   ]
  },
  {
   "cell_type": "code",
   "execution_count": 180,
   "id": "informative-plaintiff",
   "metadata": {},
   "outputs": [],
   "source": [
    "def accuracy(confusion_mat):\n",
    "    \"\"\"\n",
    "    return accuracy and precision\n",
    "    \n",
    "    confusion_mat with shape number_of_classes *2 *2\n",
    "    \n",
    "    return a matrix: accu_mat, with shape number_of_classes*2\n",
    "    accu_mat[:,0] is precision\n",
    "    accu_mat[:,1] is recall\n",
    "    \"\"\"\n",
    "    accu_mat = np.zeros([confusion_mat.shape[0],2])\n",
    "    for i in range(confusion_mat.shape[0]): \n",
    "        accu_mat[i,0] = confusion_mat[i,0,0]/(confusion_mat[i,0,0] + confusion_mat[i,1,0])\n",
    "        accu_mat[i,1] = confusion_mat[i,0,0]/(confusion_mat[i,0,0] + confusion_mat[i,0,1])\n",
    "    return accu_mat"
   ]
  },
  {
   "cell_type": "code",
   "execution_count": 178,
   "id": "flying-carrier",
   "metadata": {},
   "outputs": [],
   "source": [
    "confusion_mat_label = confusion_mat_generating(label_prob_mat)"
   ]
  },
  {
   "cell_type": "code",
   "execution_count": 179,
   "id": "nominated-setting",
   "metadata": {},
   "outputs": [
    {
     "data": {
      "text/plain": [
       "array([[ 1.,  0.],\n",
       "       [ 0., 46.]])"
      ]
     },
     "execution_count": 179,
     "metadata": {},
     "output_type": "execute_result"
    }
   ],
   "source": [
    "confusion_mat_label[2]"
   ]
  },
  {
   "cell_type": "code",
   "execution_count": 167,
   "id": "abroad-variable",
   "metadata": {},
   "outputs": [],
   "source": [
    "sum_of_mat = label_mat.sum(axis=1, keepdims=True)"
   ]
  },
  {
   "cell_type": "code",
   "execution_count": 168,
   "id": "addressed-playing",
   "metadata": {},
   "outputs": [
    {
     "data": {
      "text/plain": [
       "(47, 1)"
      ]
     },
     "execution_count": 168,
     "metadata": {},
     "output_type": "execute_result"
    }
   ],
   "source": [
    "sum_of_mat.shape"
   ]
  },
  {
   "cell_type": "code",
   "execution_count": 169,
   "id": "recognized-rough",
   "metadata": {},
   "outputs": [
    {
     "data": {
      "text/plain": [
       "array([[0.5, 0. , 0. , 0. , 0. , 0.5, 0. , 0. , 0. , 0. ],\n",
       "       [0. , 1. , 0. , 0. , 0. , 0. , 0. , 0. , 0. , 0. ],\n",
       "       [0. , 0. , 1. , 0. , 0. , 0. , 0. , 0. , 0. , 0. ],\n",
       "       [0. , 0. , 0. , 1. , 0. , 0. , 0. , 0. , 0. , 0. ],\n",
       "       [0. , 0. , 0. , 0. , 1. , 0. , 0. , 0. , 0. , 0. ],\n",
       "       [0. , 0. , 0. , 0. , 0. , 1. , 0. , 0. , 0. , 0. ],\n",
       "       [0. , 0. , 0. , 0. , 0. , 0. , 1. , 0. , 0. , 0. ],\n",
       "       [0. , 0. , 0. , 0. , 0. , 0. , 0. , 1. , 0. , 0. ],\n",
       "       [0. , 0. , 0. , 0. , 0. , 0. , 0. , 0. , 1. , 0. ],\n",
       "       [0. , 0. , 0. , 0. , 0. , 0. , 0. , 0. , 0. , 1. ]])"
      ]
     },
     "execution_count": 169,
     "metadata": {},
     "output_type": "execute_result"
    }
   ],
   "source": [
    "(label_mat / sum_of_mat) [:10,:10]"
   ]
  },
  {
   "cell_type": "code",
   "execution_count": 155,
   "id": "antique-dancing",
   "metadata": {},
   "outputs": [],
   "source": [
    "label_mat[0,0] = 1"
   ]
  },
  {
   "cell_type": "code",
   "execution_count": 156,
   "id": "sufficient-cowboy",
   "metadata": {},
   "outputs": [
    {
     "data": {
      "text/plain": [
       "array([2., 1., 1., 1., 1., 1., 1., 1., 1., 1., 1., 1., 1., 1., 1., 1., 1.,\n",
       "       1., 1., 1., 1., 1., 1., 1., 1., 1., 1., 1., 1., 1., 1., 1., 1., 1.,\n",
       "       1., 1., 1., 1., 1., 1., 1., 1., 1., 1., 1., 1., 1.])"
      ]
     },
     "execution_count": 156,
     "metadata": {},
     "output_type": "execute_result"
    }
   ],
   "source": [
    "label_mat.sum(axis=1) "
   ]
  },
  {
   "cell_type": "code",
   "execution_count": null,
   "id": "naval-baker",
   "metadata": {},
   "outputs": [],
   "source": [
    "label_mat"
   ]
  },
  {
   "cell_type": "code",
   "execution_count": 157,
   "id": "heard-frequency",
   "metadata": {},
   "outputs": [
    {
     "data": {
      "text/plain": [
       "array([[1., 0., 0., 0., 0., 1., 0., 0., 0., 0.],\n",
       "       [0., 1., 0., 0., 0., 0., 0., 0., 0., 0.],\n",
       "       [0., 0., 1., 0., 0., 0., 0., 0., 0., 0.],\n",
       "       [0., 0., 0., 1., 0., 0., 0., 0., 0., 0.],\n",
       "       [0., 0., 0., 0., 1., 0., 0., 0., 0., 0.],\n",
       "       [0., 0., 0., 0., 0., 1., 0., 0., 0., 0.],\n",
       "       [0., 0., 0., 0., 0., 0., 1., 0., 0., 0.],\n",
       "       [0., 0., 0., 0., 0., 0., 0., 1., 0., 0.],\n",
       "       [0., 0., 0., 0., 0., 0., 0., 0., 1., 0.],\n",
       "       [0., 0., 0., 0., 0., 0., 0., 0., 0., 1.]])"
      ]
     },
     "execution_count": 157,
     "metadata": {},
     "output_type": "execute_result"
    }
   ],
   "source": [
    "label_mat[:10,:10]"
   ]
  },
  {
   "cell_type": "code",
   "execution_count": null,
   "id": "exact-wound",
   "metadata": {},
   "outputs": [],
   "source": [
    "def label_accuracy_matrix_construct(true_label, predicted_label):\n",
    "    "
   ]
  },
  {
   "cell_type": "code",
   "execution_count": null,
   "id": "imposed-marketplace",
   "metadata": {},
   "outputs": [],
   "source": [
    "def probability_accuracy_matrix_construct(true_label_prob, predicted_label_prob):"
   ]
  },
  {
   "cell_type": "code",
   "execution_count": 101,
   "id": "soviet-delight",
   "metadata": {},
   "outputs": [
    {
     "data": {
      "text/plain": [
       "(1085888, 48)"
      ]
     },
     "execution_count": 101,
     "metadata": {},
     "output_type": "execute_result"
    }
   ],
   "source": [
    "def accuracy(true_label, predicted_label):\n",
    "    "
   ]
  }
 ],
 "metadata": {
  "kernelspec": {
   "display_name": "Python 3",
   "language": "python",
   "name": "python3"
  },
  "language_info": {
   "codemirror_mode": {
    "name": "ipython",
    "version": 3
   },
   "file_extension": ".py",
   "mimetype": "text/x-python",
   "name": "python",
   "nbconvert_exporter": "python",
   "pygments_lexer": "ipython3",
   "version": "3.7.10"
  }
 },
 "nbformat": 4,
 "nbformat_minor": 5
}
